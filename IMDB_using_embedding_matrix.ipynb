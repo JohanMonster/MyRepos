{
  "nbformat": 4,
  "nbformat_minor": 0,
  "metadata": {
    "colab": {
      "name": "IMDB_using_embedding_matrix.ipynb",
      "version": "0.3.2",
      "provenance": [],
      "include_colab_link": true
    },
    "kernelspec": {
      "name": "python3",
      "display_name": "Python 3"
    },
    "accelerator": "GPU"
  },
  "cells": [
    {
      "cell_type": "markdown",
      "metadata": {
        "id": "view-in-github",
        "colab_type": "text"
      },
      "source": [
        "<a href=\"https://colab.research.google.com/github/JohanMonster/MyRepos/blob/master/IMDB_using_embedding_matrix.ipynb\" target=\"_parent\"><img src=\"https://colab.research.google.com/assets/colab-badge.svg\" alt=\"Open In Colab\"/></a>"
      ]
    },
    {
      "metadata": {
        "id": "0uqoPowOkDSc",
        "colab_type": "code",
        "colab": {}
      },
      "cell_type": "code",
      "source": [
        "import tensorflow as tf\n",
        "import keras\n",
        "from keras.layers import Dense,Conv1D,Embedding,MaxPooling1D,Dropout,Flatten,BatchNormalization\n",
        "from keras.callbacks import EarlyStopping,ModelCheckpoint,ReduceLROnPlateau,TensorBoard\n",
        "from keras.optimizers import Adam\n",
        "from keras.datasets import imdb\n",
        "from keras.preprocessing.text import *\n",
        "import matplotlib.pyplot as plt\n",
        "from keras import Sequential"
      ],
      "execution_count": 0,
      "outputs": []
    },
    {
      "metadata": {
        "id": "Ns1AndxkKEEM",
        "colab_type": "code",
        "colab": {}
      },
      "cell_type": "code",
      "source": [
        ""
      ],
      "execution_count": 0,
      "outputs": []
    },
    {
      "metadata": {
        "id": "FHxNPxMXlEFu",
        "colab_type": "code",
        "outputId": "65c51628-4c6d-4d51-a53f-e712e52b13be",
        "colab": {
          "base_uri": "https://localhost:8080/",
          "height": 34
        }
      },
      "cell_type": "code",
      "source": [
        "device_name = tf.test.gpu_device_name()\n",
        "print(f\"device name{device_name}\")"
      ],
      "execution_count": 0,
      "outputs": [
        {
          "output_type": "stream",
          "text": [
            "device name/device:GPU:0\n"
          ],
          "name": "stdout"
        }
      ]
    },
    {
      "metadata": {
        "id": "GMDR6FOivzLF",
        "colab_type": "code",
        "colab": {}
      },
      "cell_type": "code",
      "source": [
        "from keras.layers import LSTM"
      ],
      "execution_count": 0,
      "outputs": []
    },
    {
      "metadata": {
        "id": "bXAnSiSflNmJ",
        "colab_type": "code",
        "colab": {}
      },
      "cell_type": "code",
      "source": [
        "(train_data,train_labels),(test_data,test_labels)=imdb.load_data(num_words=50000)"
      ],
      "execution_count": 0,
      "outputs": []
    },
    {
      "metadata": {
        "id": "BSQvFD-InCPq",
        "colab_type": "code",
        "colab": {}
      },
      "cell_type": "code",
      "source": [
        "word_index=imdb.get_word_index()"
      ],
      "execution_count": 0,
      "outputs": []
    },
    {
      "metadata": {
        "id": "8oXrivVtnId6",
        "colab_type": "code",
        "colab": {}
      },
      "cell_type": "code",
      "source": [
        "max_length_review=(max(len(train_data[i]) for i in range(25000)) )"
      ],
      "execution_count": 0,
      "outputs": []
    },
    {
      "metadata": {
        "id": "T-G7SxRnoH_s",
        "colab_type": "code",
        "colab": {}
      },
      "cell_type": "code",
      "source": [
        "reverse_index=dict()"
      ],
      "execution_count": 0,
      "outputs": []
    },
    {
      "metadata": {
        "id": "fK0GJtnbnuAS",
        "colab_type": "code",
        "colab": {}
      },
      "cell_type": "code",
      "source": [
        "reverse_index={index:word for word,index in word_index.items()}"
      ],
      "execution_count": 0,
      "outputs": []
    },
    {
      "metadata": {
        "id": "Gru38y0NpXFa",
        "colab_type": "code",
        "outputId": "36ae1129-4dcc-4a79-8079-26c347ed6644",
        "colab": {
          "base_uri": "https://localhost:8080/",
          "height": 3300
        }
      },
      "cell_type": "code",
      "source": [
        "decoded_review=' '.join(reverse_index[i-3] for i in train_data[6])"
      ],
      "execution_count": 0,
      "outputs": [
        {
          "output_type": "stream",
          "text": [
            "['?']\n",
            "['big']\n",
            "['hair']\n",
            "['big']\n",
            "['boobs']\n",
            "['bad']\n",
            "['music']\n",
            "['and']\n",
            "['a']\n",
            "['giant']\n",
            "['safety']\n",
            "['pin']\n",
            "['these']\n",
            "['are']\n",
            "['the']\n",
            "['words']\n",
            "['to']\n",
            "['best']\n",
            "['describe']\n",
            "['this']\n",
            "['terrible']\n",
            "['movie']\n",
            "['i']\n",
            "['love']\n",
            "['cheesy']\n",
            "['horror']\n",
            "['movies']\n",
            "['and']\n",
            "[\"i've\"]\n",
            "['seen']\n",
            "['hundreds']\n",
            "['but']\n",
            "['this']\n",
            "['had']\n",
            "['got']\n",
            "['to']\n",
            "['be']\n",
            "['on']\n",
            "['of']\n",
            "['the']\n",
            "['worst']\n",
            "['ever']\n",
            "['made']\n",
            "['the']\n",
            "['plot']\n",
            "['is']\n",
            "['paper']\n",
            "['thin']\n",
            "['and']\n",
            "['ridiculous']\n",
            "['the']\n",
            "['acting']\n",
            "['is']\n",
            "['an']\n",
            "['abomination']\n",
            "['the']\n",
            "['script']\n",
            "['is']\n",
            "['completely']\n",
            "['laughable']\n",
            "['the']\n",
            "['best']\n",
            "['is']\n",
            "['the']\n",
            "['end']\n",
            "['showdown']\n",
            "['with']\n",
            "['the']\n",
            "['cop']\n",
            "['and']\n",
            "['how']\n",
            "['he']\n",
            "['worked']\n",
            "['out']\n",
            "['who']\n",
            "['the']\n",
            "['killer']\n",
            "['is']\n",
            "[\"it's\"]\n",
            "['just']\n",
            "['so']\n",
            "['damn']\n",
            "['terribly']\n",
            "['written']\n",
            "['the']\n",
            "['clothes']\n",
            "['are']\n",
            "['sickening']\n",
            "['and']\n",
            "['funny']\n",
            "['in']\n",
            "['equal']\n",
            "['measures']\n",
            "['the']\n",
            "['hair']\n",
            "['is']\n",
            "['big']\n",
            "['lots']\n",
            "['of']\n",
            "['boobs']\n",
            "['bounce']\n",
            "['men']\n",
            "['wear']\n",
            "['those']\n",
            "['cut']\n",
            "['tee']\n",
            "['shirts']\n",
            "['that']\n",
            "['show']\n",
            "['off']\n",
            "['their']\n",
            "['?']\n",
            "['sickening']\n",
            "['that']\n",
            "['men']\n",
            "['actually']\n",
            "['wore']\n",
            "['them']\n",
            "['and']\n",
            "['the']\n",
            "['music']\n",
            "['is']\n",
            "['just']\n",
            "['?']\n",
            "['trash']\n",
            "['that']\n",
            "['plays']\n",
            "['over']\n",
            "['and']\n",
            "['over']\n",
            "['again']\n",
            "['in']\n",
            "['almost']\n",
            "['every']\n",
            "['scene']\n",
            "['there']\n",
            "['is']\n",
            "['trashy']\n",
            "['music']\n",
            "['boobs']\n",
            "['and']\n",
            "['?']\n",
            "['taking']\n",
            "['away']\n",
            "['bodies']\n",
            "['and']\n",
            "['the']\n",
            "['gym']\n",
            "['still']\n",
            "[\"doesn't\"]\n",
            "['close']\n",
            "['for']\n",
            "['?']\n",
            "['all']\n",
            "['joking']\n",
            "['aside']\n",
            "['this']\n",
            "['is']\n",
            "['a']\n",
            "['truly']\n",
            "['bad']\n",
            "['film']\n",
            "['whose']\n",
            "['only']\n",
            "['charm']\n",
            "['is']\n",
            "['to']\n",
            "['look']\n",
            "['back']\n",
            "['on']\n",
            "['the']\n",
            "['disaster']\n",
            "['that']\n",
            "['was']\n",
            "['the']\n",
            "[\"80's\"]\n",
            "['and']\n",
            "['have']\n",
            "['a']\n",
            "['good']\n",
            "['old']\n",
            "['laugh']\n",
            "['at']\n",
            "['how']\n",
            "['bad']\n",
            "['everything']\n",
            "['was']\n",
            "['back']\n",
            "['then']\n"
          ],
          "name": "stdout"
        }
      ]
    },
    {
      "metadata": {
        "id": "3mcSbuchpbdr",
        "colab_type": "code",
        "outputId": "98c2765f-bf83-45ae-d808-16012f4842e6",
        "colab": {
          "base_uri": "https://localhost:8080/",
          "height": 34
        }
      },
      "cell_type": "code",
      "source": [
        "len(reverse_index)"
      ],
      "execution_count": 0,
      "outputs": [
        {
          "output_type": "execute_result",
          "data": {
            "text/plain": [
              "88584"
            ]
          },
          "metadata": {
            "tags": []
          },
          "execution_count": 43
        }
      ]
    },
    {
      "metadata": {
        "id": "vWacAZjxtxLE",
        "colab_type": "code",
        "colab": {}
      },
      "cell_type": "code",
      "source": [
        "max_length=1000\n"
      ],
      "execution_count": 0,
      "outputs": []
    },
    {
      "metadata": {
        "id": "BpinmpD2t2W8",
        "colab_type": "code",
        "colab": {}
      },
      "cell_type": "code",
      "source": [
        "vocab_size=20000\n",
        "input_dim=300"
      ],
      "execution_count": 0,
      "outputs": []
    },
    {
      "metadata": {
        "id": "K2NpVJdRt9Jd",
        "colab_type": "code",
        "colab": {}
      },
      "cell_type": "code",
      "source": [
        "from keras.preprocessing.sequence import pad_sequences"
      ],
      "execution_count": 0,
      "outputs": []
    },
    {
      "metadata": {
        "id": "ZdK_uL6-uTHU",
        "colab_type": "code",
        "colab": {}
      },
      "cell_type": "code",
      "source": [
        "X_train=pad_sequences(train_data,maxlen=max_length)\n",
        "X_test=pad_sequences(test_data,maxlen=max_length)"
      ],
      "execution_count": 0,
      "outputs": []
    },
    {
      "metadata": {
        "id": "dHUDYEpXupTj",
        "colab_type": "code",
        "colab": {}
      },
      "cell_type": "code",
      "source": [
        "embedding=Embedding(vocab_size,input_dim,input_length=max_length)"
      ],
      "execution_count": 0,
      "outputs": []
    },
    {
      "metadata": {
        "id": "uBX4dpHLu16T",
        "colab_type": "code",
        "colab": {}
      },
      "cell_type": "code",
      "source": [
        "def model():  \n",
        "# create the model\n",
        "  model = Sequential()\n",
        "  model.add(embedding)\n",
        "  model.add(Conv1D(filters=32, kernel_size=3, padding='same', activation='relu'))\n",
        "  model.add(MaxPooling1D(pool_size=2))\n",
        "  #model.add(Flatten())\n",
        "  model.add(LSTM(32,dropout=0.4))\n",
        "  model.add(Dense(256, activation='relu',kernel_initializer='he_normal'))\n",
        "  model.add(BatchNormalization())\n",
        "  model.add(Dropout(0.3))\n",
        "  model.add(Dense(1, activation='sigmoid',kernel_initializer='he_normal'))\n",
        "  adam=Adam(lr=0.02,beta_1=0.9,beta_2=0.999,decay=1e-3)\n",
        "  model.compile(loss='binary_crossentropy', optimizer=adam, metrics=['accuracy'])\n",
        "  print(model.summary())\n",
        "  return model\n",
        "  "
      ],
      "execution_count": 0,
      "outputs": []
    },
    {
      "metadata": {
        "id": "OR_WXXTTwMU0",
        "colab_type": "code",
        "colab": {}
      },
      "cell_type": "code",
      "source": [
        "def callbacks():\n",
        "  callbacks=[]\n",
        "  es=EarlyStopping(monitor='val_loss',min_delta=0,mode='auto',patience=12)\n",
        "  reduce_lr=ReduceLROnPlateau(monitor='val_loss',patience=12,factor=0.3)\n",
        "  callbacks=[es,reduce_lr]\n",
        "  return callbacks"
      ],
      "execution_count": 0,
      "outputs": []
    },
    {
      "metadata": {
        "id": "CcZceL7OxPyU",
        "colab_type": "code",
        "outputId": "981dbb33-05a5-4523-bdf1-684271fa5bdf",
        "colab": {
          "base_uri": "https://localhost:8080/",
          "height": 399
        }
      },
      "cell_type": "code",
      "source": [
        "model=model()\n"
      ],
      "execution_count": 0,
      "outputs": [
        {
          "output_type": "stream",
          "text": [
            "_________________________________________________________________\n",
            "Layer (type)                 Output Shape              Param #   \n",
            "=================================================================\n",
            "embedding_1 (Embedding)      (None, 750, 300)          6000000   \n",
            "_________________________________________________________________\n",
            "conv1d_4 (Conv1D)            (None, 750, 32)           28832     \n",
            "_________________________________________________________________\n",
            "max_pooling1d_3 (MaxPooling1 (None, 375, 32)           0         \n",
            "_________________________________________________________________\n",
            "lstm_3 (LSTM)                (None, 32)                8320      \n",
            "_________________________________________________________________\n",
            "dense_1 (Dense)              (None, 256)               8448      \n",
            "_________________________________________________________________\n",
            "dropout_1 (Dropout)          (None, 256)               0         \n",
            "_________________________________________________________________\n",
            "dense_2 (Dense)              (None, 1)                 257       \n",
            "=================================================================\n",
            "Total params: 6,045,857\n",
            "Trainable params: 6,045,857\n",
            "Non-trainable params: 0\n",
            "_________________________________________________________________\n",
            "None\n"
          ],
          "name": "stdout"
        }
      ]
    },
    {
      "metadata": {
        "id": "uLWhnEpDydcU",
        "colab_type": "code",
        "outputId": "392cc863-91f9-41c5-eb8d-33b5172458b9",
        "colab": {
          "base_uri": "https://localhost:8080/",
          "height": 662
        }
      },
      "cell_type": "code",
      "source": [
        "model.fit(x=X_train,y=train_labels,epochs=50,batch_size=64,validation_split=0.1,callbacks=callbacks())"
      ],
      "execution_count": 0,
      "outputs": [
        {
          "output_type": "stream",
          "text": [
            "WARNING:tensorflow:From /usr/local/lib/python3.6/dist-packages/tensorflow/python/ops/math_ops.py:3066: to_int32 (from tensorflow.python.ops.math_ops) is deprecated and will be removed in a future version.\n",
            "Instructions for updating:\n",
            "Use tf.cast instead.\n",
            "Train on 22500 samples, validate on 2500 samples\n",
            "Epoch 1/50\n",
            "22500/22500 [==============================] - 290s 13ms/step - loss: 0.6444 - acc: 0.6337 - val_loss: 0.6165 - val_acc: 0.6536\n",
            "Epoch 2/50\n",
            "22500/22500 [==============================] - 284s 13ms/step - loss: 0.6208 - acc: 0.6651 - val_loss: 0.6281 - val_acc: 0.6592\n",
            "Epoch 3/50\n",
            "22500/22500 [==============================] - 286s 13ms/step - loss: 0.6015 - acc: 0.6828 - val_loss: 0.6133 - val_acc: 0.6512\n",
            "Epoch 4/50\n",
            "22500/22500 [==============================] - 286s 13ms/step - loss: 0.5901 - acc: 0.6897 - val_loss: 0.6109 - val_acc: 0.6756\n",
            "Epoch 5/50\n",
            "22500/22500 [==============================] - 286s 13ms/step - loss: 0.5754 - acc: 0.7080 - val_loss: 0.5916 - val_acc: 0.7012\n",
            "Epoch 6/50\n",
            "22500/22500 [==============================] - 286s 13ms/step - loss: 0.5593 - acc: 0.7189 - val_loss: 0.5870 - val_acc: 0.6904\n",
            "Epoch 7/50\n",
            "22500/22500 [==============================] - 283s 13ms/step - loss: 0.5496 - acc: 0.7322 - val_loss: 0.5864 - val_acc: 0.7016\n",
            "Epoch 8/50\n",
            "22500/22500 [==============================] - 282s 13ms/step - loss: 0.5357 - acc: 0.7370 - val_loss: 0.5717 - val_acc: 0.7072\n",
            "Epoch 9/50\n",
            "22500/22500 [==============================] - 283s 13ms/step - loss: 0.5323 - acc: 0.7450 - val_loss: 0.5687 - val_acc: 0.7108\n",
            "Epoch 10/50\n",
            "22500/22500 [==============================] - 283s 13ms/step - loss: 0.5174 - acc: 0.7531 - val_loss: 0.5496 - val_acc: 0.7292\n",
            "Epoch 11/50\n",
            "22500/22500 [==============================] - 284s 13ms/step - loss: 0.5084 - acc: 0.7586 - val_loss: 0.5597 - val_acc: 0.7340\n",
            "Epoch 12/50\n",
            "22500/22500 [==============================] - 284s 13ms/step - loss: 0.5025 - acc: 0.7620 - val_loss: 0.5535 - val_acc: 0.7224\n",
            "Epoch 13/50\n",
            "22500/22500 [==============================] - 284s 13ms/step - loss: 0.5020 - acc: 0.7611 - val_loss: 0.5504 - val_acc: 0.7368\n",
            "Epoch 14/50\n",
            "22500/22500 [==============================] - 283s 13ms/step - loss: 0.4899 - acc: 0.7697 - val_loss: 0.5308 - val_acc: 0.7444\n",
            "Epoch 15/50\n",
            "22500/22500 [==============================] - 284s 13ms/step - loss: 0.4844 - acc: 0.7750 - val_loss: 0.5224 - val_acc: 0.7464\n",
            "Epoch 16/50\n",
            "   64/22500 [..............................] - ETA: 4:38 - loss: 0.4314 - acc: 0.7969"
          ],
          "name": "stdout"
        }
      ]
    },
    {
      "metadata": {
        "id": "dUdb6UrE_ryY",
        "colab_type": "code",
        "colab": {}
      },
      "cell_type": "code",
      "source": [
        ""
      ],
      "execution_count": 0,
      "outputs": []
    },
    {
      "metadata": {
        "id": "HLzvxPThy6tG",
        "colab_type": "code",
        "colab": {}
      },
      "cell_type": "code",
      "source": [
        "model.evaluate(X_test,test_labels)"
      ],
      "execution_count": 0,
      "outputs": []
    },
    {
      "metadata": {
        "id": "xrQ6ZSVlKGvD",
        "colab_type": "code",
        "colab": {}
      },
      "cell_type": "code",
      "source": [
        "def plot():\n",
        "  val_loss=history.history['val_loss']\n",
        "  loss=history.history['loss']\n",
        "  plt.plot(val_loss)\n",
        "  plt.plot(loss)\n",
        "  plt.title('losses')\n",
        "  plt.show()\n",
        "  lr=history.history['lr']\n",
        "  plt.plot(lr)\n",
        "  plt.title('learning_rates')\n",
        "  plt.show()\n",
        "  val_acc=history.history['val_acc']\n",
        "  acc=history.history['acc']\n",
        "  plt.plot(val_acc)\n",
        "  plt.plot(acc)\n",
        "  plt.title(\"accuracy curves\")\n",
        "  plt.show()"
      ],
      "execution_count": 0,
      "outputs": []
    },
    {
      "metadata": {
        "id": "bg7aAVXWKHfu",
        "colab_type": "code",
        "colab": {}
      },
      "cell_type": "code",
      "source": [
        "plot()"
      ],
      "execution_count": 0,
      "outputs": []
    }
  ]
}