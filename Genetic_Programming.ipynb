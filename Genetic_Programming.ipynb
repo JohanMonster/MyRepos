{
  "nbformat": 4,
  "nbformat_minor": 0,
  "metadata": {
    "colab": {
      "name": "Genetic Programming.ipynb",
      "version": "0.3.2",
      "provenance": [],
      "include_colab_link": true
    },
    "kernelspec": {
      "name": "python3",
      "display_name": "Python 3"
    }
  },
  "cells": [
    {
      "cell_type": "markdown",
      "metadata": {
        "id": "view-in-github",
        "colab_type": "text"
      },
      "source": [
        "<a href=\"https://colab.research.google.com/github/JohanMonster/MyRepos/blob/master/Genetic_Programming.ipynb\" target=\"_parent\"><img src=\"https://colab.research.google.com/assets/colab-badge.svg\" alt=\"Open In Colab\"/></a>"
      ]
    },
    {
      "metadata": {
        "id": "LFxN_Fv6CCXK",
        "colab_type": "code",
        "colab": {}
      },
      "cell_type": "code",
      "source": [
        "from keras.datasets import boston_housing"
      ],
      "execution_count": 0,
      "outputs": []
    },
    {
      "metadata": {
        "id": "5H-sPAZRCRTL",
        "colab_type": "code",
        "colab": {}
      },
      "cell_type": "code",
      "source": [
        "(train_x,train_labels),(test_x,test_labels)=boston_housing.load_data()"
      ],
      "execution_count": 0,
      "outputs": []
    },
    {
      "metadata": {
        "id": "BCCdn_S-CbHS",
        "colab_type": "code",
        "colab": {
          "base_uri": "https://localhost:8080/",
          "height": 34
        },
        "outputId": "5781ecc3-ca2a-4995-e43f-37aebd310b6e"
      },
      "cell_type": "code",
      "source": [
        "train_x.shape"
      ],
      "execution_count": 8,
      "outputs": [
        {
          "output_type": "execute_result",
          "data": {
            "text/plain": [
              "(404, 13)"
            ]
          },
          "metadata": {
            "tags": []
          },
          "execution_count": 8
        }
      ]
    },
    {
      "metadata": {
        "id": "4kRE3fSjCljC",
        "colab_type": "code",
        "colab": {
          "base_uri": "https://localhost:8080/",
          "height": 34
        },
        "outputId": "27086bc2-49c9-48d0-9a67-684092d9b922"
      },
      "cell_type": "code",
      "source": [
        "test_x.shape"
      ],
      "execution_count": 9,
      "outputs": [
        {
          "output_type": "execute_result",
          "data": {
            "text/plain": [
              "(102, 13)"
            ]
          },
          "metadata": {
            "tags": []
          },
          "execution_count": 9
        }
      ]
    },
    {
      "metadata": {
        "id": "GgX6BTnrCoGK",
        "colab_type": "code",
        "colab": {
          "base_uri": "https://localhost:8080/",
          "height": 34
        },
        "outputId": "30c537ec-e729-45f8-efcb-a15edfdca507"
      },
      "cell_type": "code",
      "source": [
        "type(train_x)"
      ],
      "execution_count": 10,
      "outputs": [
        {
          "output_type": "execute_result",
          "data": {
            "text/plain": [
              "numpy.ndarray"
            ]
          },
          "metadata": {
            "tags": []
          },
          "execution_count": 10
        }
      ]
    },
    {
      "metadata": {
        "id": "tUegcC8-Crka",
        "colab_type": "code",
        "colab": {}
      },
      "cell_type": "code",
      "source": [
        "import gplearn\n",
        "from gplearn.genetic import SymbolicTransformer, SymbolicRegressor\n",
        "import numpy as np"
      ],
      "execution_count": 0,
      "outputs": []
    },
    {
      "metadata": {
        "id": "bLf0ylrWDeoC",
        "colab_type": "code",
        "colab": {}
      },
      "cell_type": "code",
      "source": [
        "from sklearn.linear_model import RandomizedLasso\n",
        "from sklearn.tree import DecisionTreeRegressor\n",
        "from sklearn.ensemble import RandomForestRegressor\n",
        "from xgboost import XGBRegressor"
      ],
      "execution_count": 0,
      "outputs": []
    },
    {
      "metadata": {
        "id": "GdaCh5JMDBIi",
        "colab_type": "code",
        "colab": {}
      },
      "cell_type": "code",
      "source": [
        "function_set = ['add', 'sub', 'mul', 'div',\n",
        "                'sqrt', 'log', 'abs', 'neg', 'inv',\n",
        "                'max', 'min']\n",
        "gp = SymbolicTransformer(generations=10, population_size=2000,\n",
        "                         hall_of_fame=100, n_components=13,\n",
        "                         function_set=function_set,\n",
        "                         parsimony_coefficient=0.0005,\n",
        "                         max_samples=0.75, verbose=1,\n",
        "                         random_state=2019, n_jobs=-1)"
      ],
      "execution_count": 0,
      "outputs": []
    },
    {
      "metadata": {
        "id": "RHC31ms3DaLK",
        "colab_type": "code",
        "colab": {}
      },
      "cell_type": "code",
      "source": [
        "rf=RandomForestRegressor()\n",
        "#rl=RandomizedLasso()\n",
        "dtr=DecisionTreeRegressor()\n",
        "xgbr=XGBRegressor()"
      ],
      "execution_count": 0,
      "outputs": []
    },
    {
      "metadata": {
        "id": "aKnSkBp-EDCK",
        "colab_type": "code",
        "colab": {}
      },
      "cell_type": "code",
      "source": [
        "?xgbr"
      ],
      "execution_count": 0,
      "outputs": []
    },
    {
      "metadata": {
        "id": "gw33BWB3EaVN",
        "colab_type": "code",
        "colab": {}
      },
      "cell_type": "code",
      "source": [
        "from sklearn.metrics import r2_score,mean_squared_error"
      ],
      "execution_count": 0,
      "outputs": []
    },
    {
      "metadata": {
        "id": "elZIW53xEeNM",
        "colab_type": "code",
        "colab": {
          "base_uri": "https://localhost:8080/",
          "height": 34
        },
        "outputId": "a4405d0e-c784-458b-efd1-802a540ccda5"
      },
      "cell_type": "code",
      "source": [
        "rf.fit(train_x,train_labels)\n",
        "print(r2_score(test_labels,rf.predict(test_x)))"
      ],
      "execution_count": 26,
      "outputs": [
        {
          "output_type": "stream",
          "text": [
            "0.794374937331783\n"
          ],
          "name": "stdout"
        }
      ]
    },
    {
      "metadata": {
        "id": "lVOQj-3pFJzy",
        "colab_type": "code",
        "colab": {
          "base_uri": "https://localhost:8080/",
          "height": 34
        },
        "outputId": "2dff9356-dff9-434d-e271-782da08e7e7a"
      },
      "cell_type": "code",
      "source": [
        "xgbr.fit(train_x,train_labels)\n",
        "print(r2_score(test_labels,xgbr.predict(test_x)))"
      ],
      "execution_count": 33,
      "outputs": [
        {
          "output_type": "stream",
          "text": [
            "0.8310388813816848\n"
          ],
          "name": "stdout"
        }
      ]
    },
    {
      "metadata": {
        "id": "3h8SJ0eyFcZ5",
        "colab_type": "code",
        "colab": {
          "base_uri": "https://localhost:8080/",
          "height": 34
        },
        "outputId": "7bd6dc76-b95e-47a1-a427-93c422fca896"
      },
      "cell_type": "code",
      "source": [
        "dtr.fit(train_x,train_labels)\n",
        "print(r2_score(test_labels,dtr.predict(test_x)))"
      ],
      "execution_count": 34,
      "outputs": [
        {
          "output_type": "stream",
          "text": [
            "0.6358442572127625\n"
          ],
          "name": "stdout"
        }
      ]
    },
    {
      "metadata": {
        "id": "oz5GQd0wFhJa",
        "colab_type": "code",
        "colab": {
          "base_uri": "https://localhost:8080/",
          "height": 415
        },
        "outputId": "64432a0b-198f-4505-a40c-0acdd8943f9f"
      },
      "cell_type": "code",
      "source": [
        "gp.fit(train_x,train_labels)"
      ],
      "execution_count": 37,
      "outputs": [
        {
          "output_type": "stream",
          "text": [
            "    |    Population Average   |             Best Individual              |\n",
            "---- ------------------------- ------------------------------------------ ----------\n",
            " Gen   Length          Fitness   Length          Fitness      OOB Fitness  Time Left\n",
            "   0    11.22 0.3390816384510685       23 0.8394446362463077 0.865149899564283     15.42s\n",
            "   1     9.05 0.5980526252671725       13 0.863337547904028 0.7858592788676995     18.39s\n",
            "   2     7.97 0.7014114717982916        4 0.8801554085204725 0.7365963066252095     19.01s\n",
            "   3     12.1 0.7033198074628372       13 0.8837517957268987 0.7572284089478153     17.84s\n",
            "   4    14.89 0.7134523931080867        5 0.8850108335328754 0.7570488378695772     15.84s\n",
            "   5    15.76 0.7267093648665004       15 0.8833191914070393 0.803740813719235     13.39s\n",
            "   6    15.48 0.7315339609714694       22 0.8949564721475577 0.7672275877773609     10.46s\n",
            "   7    15.96 0.7294677618632559       32 0.9082432683748236 0.7848957551614286      7.17s\n",
            "   8     17.0 0.7165795728897779       36 0.9051080992594747 0.7823129100697277      3.68s\n",
            "   9    18.09 0.7232154257163915       32 0.9044465444579934 0.7828919470041027      0.00s\n"
          ],
          "name": "stdout"
        },
        {
          "output_type": "execute_result",
          "data": {
            "text/plain": [
              "SymbolicTransformer(const_range=(-1.0, 1.0),\n",
              "          function_set=['add', 'sub', 'mul', 'div', 'sqrt', 'log', 'abs', 'neg', 'inv', 'max', 'min'],\n",
              "          generations=10, hall_of_fame=100, init_depth=(2, 6),\n",
              "          init_method='half and half', max_samples=0.75, metric='pearson',\n",
              "          n_components=13, n_jobs=-1, p_crossover=0.9,\n",
              "          p_hoist_mutation=0.01, p_point_mutation=0.01,\n",
              "          p_point_replace=0.05, p_subtree_mutation=0.01,\n",
              "          parsimony_coefficient=0.0005, population_size=2000,\n",
              "          random_state=2019, stopping_criteria=1.0, tournament_size=20,\n",
              "          verbose=1, warm_start=False)"
            ]
          },
          "metadata": {
            "tags": []
          },
          "execution_count": 37
        }
      ]
    },
    {
      "metadata": {
        "id": "VX_tBrDGGUvL",
        "colab_type": "code",
        "colab": {}
      },
      "cell_type": "code",
      "source": [
        "data_stack=np.vstack([train_x,test_x])\n"
      ],
      "execution_count": 0,
      "outputs": []
    },
    {
      "metadata": {
        "id": "Tz1_XKbkKz2h",
        "colab_type": "code",
        "colab": {
          "base_uri": "https://localhost:8080/",
          "height": 52
        },
        "outputId": "2c791041-c058-4bd1-d5e3-c0ef95cfb4c8"
      },
      "cell_type": "code",
      "source": [
        "data_stack[404,:]==test_x[0,:]"
      ],
      "execution_count": 66,
      "outputs": [
        {
          "output_type": "execute_result",
          "data": {
            "text/plain": [
              "array([ True,  True,  True,  True,  True,  True,  True,  True,  True,\n",
              "        True,  True,  True,  True])"
            ]
          },
          "metadata": {
            "tags": []
          },
          "execution_count": 66
        }
      ]
    },
    {
      "metadata": {
        "id": "sGUsdGFGKcqP",
        "colab_type": "code",
        "colab": {}
      },
      "cell_type": "code",
      "source": [
        "gp_features=gp.transform(data_stack)"
      ],
      "execution_count": 0,
      "outputs": []
    },
    {
      "metadata": {
        "id": "gTid6F6EGchJ",
        "colab_type": "code",
        "colab": {
          "base_uri": "https://localhost:8080/",
          "height": 34
        },
        "outputId": "7a601bec-aa64-4ffa-afc2-7bd820fc4e17"
      },
      "cell_type": "code",
      "source": [
        "gp_features.shape"
      ],
      "execution_count": 65,
      "outputs": [
        {
          "output_type": "execute_result",
          "data": {
            "text/plain": [
              "(506, 13)"
            ]
          },
          "metadata": {
            "tags": []
          },
          "execution_count": 65
        }
      ]
    },
    {
      "metadata": {
        "id": "FrtcaDaLGt5C",
        "colab_type": "code",
        "colab": {}
      },
      "cell_type": "code",
      "source": [
        "transformed_x=np.hstack([data_stack,gp_features])"
      ],
      "execution_count": 0,
      "outputs": []
    },
    {
      "metadata": {
        "id": "rodvojiVG_fy",
        "colab_type": "code",
        "colab": {
          "base_uri": "https://localhost:8080/",
          "height": 34
        },
        "outputId": "d8286b7f-73af-4f1f-f99e-78a22fcfcb52"
      },
      "cell_type": "code",
      "source": [
        "test_x.shape"
      ],
      "execution_count": 61,
      "outputs": [
        {
          "output_type": "execute_result",
          "data": {
            "text/plain": [
              "(102, 13)"
            ]
          },
          "metadata": {
            "tags": []
          },
          "execution_count": 61
        }
      ]
    },
    {
      "metadata": {
        "id": "brsNFuNWKSu4",
        "colab_type": "code",
        "colab": {}
      },
      "cell_type": "code",
      "source": [
        ""
      ],
      "execution_count": 0,
      "outputs": []
    },
    {
      "metadata": {
        "id": "YiCxxld6Hp_j",
        "colab_type": "code",
        "colab": {
          "base_uri": "https://localhost:8080/",
          "height": 34
        },
        "outputId": "84b39581-9ba4-4fbb-e14f-af6741091c53"
      },
      "cell_type": "code",
      "source": [
        "rf.fit(transformed_x[0:404],train_labels)\n",
        "print(r2_score(test_labels,rf.predict(transformed_x[404:])))"
      ],
      "execution_count": 68,
      "outputs": [
        {
          "output_type": "stream",
          "text": [
            "0.8025338867919299\n"
          ],
          "name": "stdout"
        }
      ]
    },
    {
      "metadata": {
        "id": "Hx7Cs2M3LI2w",
        "colab_type": "code",
        "colab": {
          "base_uri": "https://localhost:8080/",
          "height": 34
        },
        "outputId": "6888535b-627c-45a1-a4a5-74e4d70bf181"
      },
      "cell_type": "code",
      "source": [
        "dtr.fit(transformed_x[0:404],train_labels)\n",
        "print(r2_score(test_labels,dtr.predict(transformed_x[404:])))"
      ],
      "execution_count": 70,
      "outputs": [
        {
          "output_type": "stream",
          "text": [
            "0.6742195829662533\n"
          ],
          "name": "stdout"
        }
      ]
    },
    {
      "metadata": {
        "id": "Qsic7As_LR6Q",
        "colab_type": "code",
        "colab": {
          "base_uri": "https://localhost:8080/",
          "height": 34
        },
        "outputId": "8d0e51d2-e565-4021-b7e2-fe15a00b4dd7"
      },
      "cell_type": "code",
      "source": [
        "xgbr.fit(transformed_x[0:404],train_labels)\n",
        "print(r2_score(test_labels,xgbr.predict(transformed_x[404:])))"
      ],
      "execution_count": 71,
      "outputs": [
        {
          "output_type": "stream",
          "text": [
            "0.8385886219954094\n"
          ],
          "name": "stdout"
        }
      ]
    }
  ]
}